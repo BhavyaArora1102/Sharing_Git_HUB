{
 "cells": [
  {
   "cell_type": "markdown",
   "id": "1001a591",
   "metadata": {},
   "source": [
    "# Kaun Banega Crorepati Game."
   ]
  },
  {
   "cell_type": "code",
   "execution_count": null,
   "id": "e8ca7d01",
   "metadata": {},
   "outputs": [],
   "source": [
    "# Please play the game with CAPS LOCK ON. Thank you!"
   ]
  },
  {
   "cell_type": "code",
   "execution_count": 1,
   "id": "8e38e38e",
   "metadata": {},
   "outputs": [
    {
     "name": "stdout",
     "output_type": "stream",
     "text": [
      "Enter your name (MR./MRS./MS.): Mr.Bhavya Arora\n",
      "Welcome to Kaun Banega Crorepati and today we have Mr.Bhavya Arora with us to play KBC.\n"
     ]
    }
   ],
   "source": [
    "name = input('Enter your name (MR./MRS./MS.): ')\n",
    "print('Welcome to Kaun Banega Crorepati and today we have', name , 'with us to play KBC.')"
   ]
  },
  {
   "cell_type": "code",
   "execution_count": 2,
   "id": "b56b5ddc",
   "metadata": {},
   "outputs": [
    {
     "name": "stdout",
     "output_type": "stream",
     "text": [
      "First let me show you the prize money break up:\n",
      "Prize Break Up is \n",
      "₹1,000\n",
      "₹2,000\n",
      "₹5,000\n",
      "₹10,000 = First Round Qualified\n",
      "₹20,000\n",
      "₹40,000\n",
      "₹80,000\n",
      "₹160,000\n",
      "₹320,000 = Second Round Qualified\n",
      "₹640,000\n",
      "₹12,50,000\n",
      "₹25,00,000\n",
      "₹50,00,000\n",
      "₹100,00,000\n",
      "₹700,00,000 = Winner!!\n"
     ]
    }
   ],
   "source": [
    "print('First let me show you the prize money break up:')\n",
    "Prize = ['₹1,000',\n",
    "         '₹2,000',\n",
    "         '₹5,000',\n",
    "         '₹10,000 = First Round Qualified',\n",
    "         '₹20,000',\n",
    "         '₹40,000',\n",
    "         '₹80,000',\n",
    "         '₹160,000',\n",
    "         '₹320,000 = Second Round Qualified',\n",
    "         '₹640,000',\n",
    "         '₹12,50,000',\n",
    "         '₹25,00,000',\n",
    "         '₹50,00,000',\n",
    "         '₹100,00,000',\n",
    "         '₹700,00,000 = Winner!!']\n",
    "print('Prize Break Up is ')\n",
    "for i in Prize:\n",
    "    print(i)"
   ]
  },
  {
   "cell_type": "code",
   "execution_count": 3,
   "id": "02e0d616",
   "metadata": {},
   "outputs": [
    {
     "name": "stdout",
     "output_type": "stream",
     "text": [
      "Lets play 'Kaun Banega Crorepati'\n"
     ]
    }
   ],
   "source": [
    "print(\"Lets play 'Kaun Banega Crorepati'\")"
   ]
  },
  {
   "cell_type": "code",
   "execution_count": 4,
   "id": "fbafb53d",
   "metadata": {},
   "outputs": [
    {
     "name": "stdout",
     "output_type": "stream",
     "text": [
      "Q1. The International Literacy Day is observed on?\n",
      "A. Sep 8\n",
      "B. Nov 28\n",
      "C. May 2\n",
      "D. Sep 22\n",
      "Your Answer is: A\n",
      "A\n",
      "Yes! It is Correct. Well done!\n",
      "You have won ₹1,000\n",
      "Lets proceed to the next question.\n"
     ]
    }
   ],
   "source": [
    "Q1 = ['Q1. The International Literacy Day is observed on?', 'A. Sep 8','B. Nov 28','C. May 2','D. Sep 22']\n",
    "\n",
    "for i in Q1:\n",
    "    print(i)\n",
    "    \n",
    "Player_response = input('Your Answer is: ')\n",
    "print(Player_response)\n",
    "\n",
    "if Player_response == 'A':\n",
    "        print('Yes! It is Correct. Well done!')\n",
    "        print('You have won ₹1,000')\n",
    "        print('Lets proceed to the next question.')\n",
    "else:\n",
    "        print('No! It is incorrect.')\n",
    "        print('And the correct answer is: A.')\n",
    "        print(\"Sorry! You can't continue ahead in this game.\")\n",
    "        print('Thank you for playing.')"
   ]
  },
  {
   "cell_type": "code",
   "execution_count": 5,
   "id": "ad90d8cc",
   "metadata": {},
   "outputs": [
    {
     "name": "stdout",
     "output_type": "stream",
     "text": [
      "Q2. The language of Lakshadweep, a Union Territory of India, is?\n",
      "A. Tamil\n",
      "B. Hindi\n",
      "C. Malayalam\n",
      "D. Telugu\n",
      "Your Answer is: C\n",
      "C\n",
      "Yes! It is Correct. Well done!\n",
      "You have won ₹2,000\n",
      "Lets proceed to the next question.\n"
     ]
    }
   ],
   "source": [
    "Q2 = ['Q2. The language of Lakshadweep, a Union Territory of India, is?', 'A. Tamil', 'B. Hindi', 'C. Malayalam', 'D. Telugu']\n",
    "for i in Q2:\n",
    "    print(i)\n",
    "    \n",
    "Player_response = input('Your Answer is: ')\n",
    "print(Player_response)\n",
    "\n",
    "if Player_response == 'C':\n",
    "        print('Yes! It is Correct. Well done!')\n",
    "        print('You have won ₹2,000')\n",
    "        print('Lets proceed to the next question.')\n",
    "else:\n",
    "        print('No! It is incorrect.')\n",
    "        print('And the correct answer is: C.')\n",
    "        print(\"Sorry! You can't continue ahead in this game.\")\n",
    "        print('Thank you for playing.')"
   ]
  },
  {
   "cell_type": "code",
   "execution_count": 6,
   "id": "a8d0d923",
   "metadata": {},
   "outputs": [
    {
     "name": "stdout",
     "output_type": "stream",
     "text": [
      "Q3. Bahubali festival is related to?\n",
      "A. Islam\n",
      "B. Hinduism\n",
      "C. Buddhism\n",
      "D. Jainism\n",
      "Your Answer is: D\n",
      "D\n",
      "Yes! It is Correct. Well done!\n",
      "You have won ₹3,000\n",
      "Lets proceed to the next question.\n"
     ]
    }
   ],
   "source": [
    "Q3 = ['Q3. Bahubali festival is related to?', 'A. Islam','B. Hinduism','C. Buddhism','D. Jainism']\n",
    "\n",
    "for i in Q3:\n",
    "    print(i)\n",
    "    \n",
    "Player_response = input('Your Answer is: ')\n",
    "print(Player_response)\n",
    "\n",
    "if Player_response == 'D':\n",
    "        print('Yes! It is Correct. Well done!')\n",
    "        print('You have won ₹3,000')\n",
    "        print('Lets proceed to the next question.')\n",
    "else:\n",
    "        print('No! It is incorrect.')\n",
    "        print('And the correct answer is: D.')\n",
    "        print(\"Sorry! You can't continue ahead in this game.\")\n",
    "        print('Thank you for playing.')"
   ]
  },
  {
   "cell_type": "code",
   "execution_count": 7,
   "id": "2a919467",
   "metadata": {},
   "outputs": [
    {
     "name": "stdout",
     "output_type": "stream",
     "text": [
      "Q4. Which day is observed as the World Standards Day?\n",
      "A. June 26\n",
      "B. Oct 14\n",
      "C. Nov 15\n",
      "D. Dec 21\n",
      "Your Answer is: B\n",
      "B\n",
      "Yes! It is Correct. Well done!\n",
      "You have won ₹5,000\n",
      "Congratulations Mr.Bhavya Arora You have sucessfully qualified the First Round of KBC.\n",
      "Now you will win atleast ₹5,000 from the game.\n",
      "Lets proceed to the next question.\n"
     ]
    }
   ],
   "source": [
    "Q4 = ['Q4. Which day is observed as the World Standards Day?', 'A. June 26', 'B. Oct 14', 'C. Nov 15', 'D. Dec 21']\n",
    "\n",
    "for i in Q4:\n",
    "    print(i)\n",
    "    \n",
    "Player_response = input('Your Answer is: ')\n",
    "print(Player_response)\n",
    "\n",
    "if Player_response == 'B':\n",
    "        print('Yes! It is Correct. Well done!')\n",
    "        print('You have won ₹5,000')\n",
    "        print('Congratulations', name , 'You have sucessfully qualified the First Round of KBC.')\n",
    "        print('Now you will win atleast ₹5,000 from the game.')\n",
    "        print('Lets proceed to the next question.')\n",
    "else:\n",
    "        print('No! It is incorrect.')\n",
    "        print('And the correct answer is: B.')\n",
    "        print(\"Sorry! You can't continue ahead in this game.\")\n",
    "        print('Thank you for playing.')"
   ]
  },
  {
   "cell_type": "code",
   "execution_count": 8,
   "id": "22631b8b",
   "metadata": {},
   "outputs": [
    {
     "name": "stdout",
     "output_type": "stream",
     "text": [
      "Q5. Which of the following gods is also known as ‘Gauri Nandan’?\n",
      "A. Agni\n",
      "B. Indra\n",
      "C. Hanuman\n",
      "D. Ganesha\n",
      "Your Answer is: D\n",
      "D\n",
      "Yes! It is Correct. Well done!\n",
      "You have won ₹10,000\n",
      "Lets proceed to the next question.\n"
     ]
    }
   ],
   "source": [
    "Q5 = ['Q5. Which of the following gods is also known as ‘Gauri Nandan’?', 'A. Agni', 'B. Indra','C. Hanuman','D. Ganesha']\n",
    "\n",
    "for i in Q5:\n",
    "    print(i)\n",
    "    \n",
    "Player_response = input('Your Answer is: ')\n",
    "print(Player_response)\n",
    "\n",
    "if Player_response == 'D':\n",
    "        print('Yes! It is Correct. Well done!')\n",
    "        print('You have won ₹10,000')\n",
    "        print('Lets proceed to the next question.')\n",
    "else:\n",
    "        print('No! It is incorrect.')\n",
    "        print('And the correct answer is: D.')\n",
    "        print(\"Sorry! You can't continue ahead in this game.\")\n",
    "        print('Thank you for playing and here is your prize money of ₹5,000.')"
   ]
  },
  {
   "cell_type": "code",
   "execution_count": 9,
   "id": "51335536",
   "metadata": {},
   "outputs": [
    {
     "name": "stdout",
     "output_type": "stream",
     "text": [
      "Q6. Which of these are names of national parks located in Madhya Pradesh?\n",
      "A. Krishna and Kanhaiya\n",
      "B. Kanha and Madhav\n",
      "C. Ghanshyam and Murari\n",
      "D. Girdhar and Gopal\n",
      "Your Answer is: B\n",
      "B\n",
      "Yes! It is Correct. Well done!\n",
      "You have won ₹20,000\n",
      "Lets proceed to the next question.\n"
     ]
    }
   ],
   "source": [
    "Q6 = ['Q6. Which of these are names of national parks located in Madhya Pradesh?','A. Krishna and Kanhaiya','B. Kanha and Madhav','C. Ghanshyam and Murari','D. Girdhar and Gopal']\n",
    "\n",
    "for i in Q6:\n",
    "    print(i)\n",
    "    \n",
    "Player_response = input('Your Answer is: ')\n",
    "print(Player_response)\n",
    "\n",
    "if Player_response == 'B':\n",
    "        print('Yes! It is Correct. Well done!')\n",
    "        print('You have won ₹20,000')\n",
    "        print('Lets proceed to the next question.')\n",
    "else:\n",
    "        print('No! It is incorrect.')\n",
    "        print('And the correct answer is: B.')\n",
    "        print(\"Sorry! You can't continue ahead in this game.\")\n",
    "        print('Thank you for playing and here is your prize money of ₹5,000.')"
   ]
  },
  {
   "cell_type": "code",
   "execution_count": 10,
   "id": "94232535",
   "metadata": {},
   "outputs": [
    {
     "name": "stdout",
     "output_type": "stream",
     "text": [
      "Q7. Who wrote the introduction to the English translation of Rabindranath Tagore’s Gitanjali?\n",
      "A. P.B. Shelley\n",
      "B. Alfred Tennyson\n",
      "C. W.B. Yeats\n",
      "D. T.S. Elliot\n",
      "Your Answer is: C\n",
      "C\n",
      "Yes! It is Correct. Well done!\n",
      "You have won ₹40,000\n",
      "Lets proceed to the next question.\n"
     ]
    }
   ],
   "source": [
    "Q7 = ['Q7. Who wrote the introduction to the English translation of Rabindranath Tagore’s Gitanjali?', 'A. P.B. Shelley','B. Alfred Tennyson','C. W.B. Yeats','D. T.S. Elliot']\n",
    "\n",
    "for i in Q7:\n",
    "    print(i)\n",
    "    \n",
    "Player_response = input('Your Answer is: ')\n",
    "print(Player_response)\n",
    "\n",
    "if Player_response == 'C':\n",
    "        print('Yes! It is Correct. Well done!')\n",
    "        print('You have won ₹40,000')\n",
    "        print('Lets proceed to the next question.')\n",
    "else:\n",
    "        print('No! It is incorrect.')\n",
    "        print('And the correct answer is: C.')\n",
    "        print(\"Sorry! You can't continue ahead in this game.\")\n",
    "        print('Thank you for playing and here is your prize money of ₹5,000.')"
   ]
  },
  {
   "cell_type": "code",
   "execution_count": 11,
   "id": "4e5603aa",
   "metadata": {},
   "outputs": [
    {
     "name": "stdout",
     "output_type": "stream",
     "text": [
      "Q8. The wife of which of these famous sports persons was once captain of Indian volleyball team?\n",
      "A. K.D.Jadav\n",
      "B. Dhyan Chand\n",
      "C. Prakash Padukone\n",
      "D. Milkha Singh\n",
      "Your Answer is: D\n",
      "D\n",
      "Yes! It is Correct. Well done!\n",
      "You have won ₹80,000\n",
      "Lets proceed to the next question.\n"
     ]
    }
   ],
   "source": [
    "Q8 = ['Q8. The wife of which of these famous sports persons was once captain of Indian volleyball team?','A. K.D.Jadav','B. Dhyan Chand','C. Prakash Padukone','D. Milkha Singh']\n",
    "\n",
    "for i in Q8:\n",
    "    print(i)\n",
    "    \n",
    "Player_response = input('Your Answer is: ')\n",
    "print(Player_response)\n",
    "\n",
    "if Player_response == 'D':\n",
    "        print('Yes! It is Correct. Well done!')\n",
    "        print('You have won ₹80,000')\n",
    "        print('Lets proceed to the next question.')\n",
    "else:\n",
    "        print('No! It is incorrect.')\n",
    "        print('And the correct answer is: D.')\n",
    "        print(\"Sorry! You can't continue ahead in this game.\")\n",
    "        print('Thank you for playing and here is your prize money of ₹5,000.')"
   ]
  },
  {
   "cell_type": "code",
   "execution_count": 12,
   "id": "be07e3ce",
   "metadata": {},
   "outputs": [
    {
     "name": "stdout",
     "output_type": "stream",
     "text": [
      "Q9. Which of these spices is the smallest in size?\n",
      "A. Ajwain\n",
      "B. Jeera\n",
      "C. Saunf\n",
      "D. Methi Seeds\n",
      "Your Answer is: A\n",
      "A\n",
      "Yes! It is Correct. Well done!\n",
      "You have won ₹160,000\n",
      "Lets proceed to the next question.\n"
     ]
    }
   ],
   "source": [
    "Q9 = ['Q9. Which of these spices is the smallest in size?','A. Ajwain','B. Jeera','C. Saunf','D. Methi Seeds']\n",
    "for i in Q9:\n",
    "    print(i)\n",
    "    \n",
    "Player_response = input('Your Answer is: ')\n",
    "print(Player_response)\n",
    "\n",
    "if Player_response == 'A':\n",
    "        print('Yes! It is Correct. Well done!')\n",
    "        print('You have won ₹160,000')\n",
    "        print('Lets proceed to the next question.')\n",
    "else:\n",
    "        print('No! It is incorrect.')\n",
    "        print('And the correct answer is: A.')\n",
    "        print(\"Sorry! You can't continue ahead in this game.\")\n",
    "        print('Thank you for playing and here is your prize money of ₹5,000.')"
   ]
  },
  {
   "cell_type": "code",
   "execution_count": 13,
   "id": "09cf0930",
   "metadata": {},
   "outputs": [
    {
     "name": "stdout",
     "output_type": "stream",
     "text": [
      "Q10. What kind of creature was Bakasur, whom Kansa sent to kill Sri Krishna in his childhood?\n",
      "A. Bird\n",
      "B. Snake\n",
      "C. Lizard\n",
      "D. Deer\n",
      "Your Answer is: A\n",
      "A\n",
      "Yes! It is Correct. Well done!\n",
      "You have won ₹320,000\n",
      "Congratulations Mr.Bhavya Arora You have sucessfully qualified the Second Round of KBC.\n",
      "Now you will win atleast ₹320,000 from the game.\n",
      "Lets proceed to the next question.\n"
     ]
    }
   ],
   "source": [
    "Q10 = ['Q10. What kind of creature was Bakasur, whom Kansa sent to kill Sri Krishna in his childhood?','A. Bird','B. Snake','C. Lizard','D. Deer']\n",
    "\n",
    "for i in Q10:\n",
    "    print(i)\n",
    "    \n",
    "Player_response = input('Your Answer is: ')\n",
    "print(Player_response)\n",
    "\n",
    "if Player_response == 'A':\n",
    "        print('Yes! It is Correct. Well done!')\n",
    "        print('You have won ₹320,000')\n",
    "        print('Congratulations', name , 'You have sucessfully qualified the Second Round of KBC.')\n",
    "        print('Now you will win atleast ₹320,000 from the game.')\n",
    "        print('Lets proceed to the next question.')\n",
    "else:\n",
    "        print('No! It is incorrect.')\n",
    "        print('And the correct answer is: A.')\n",
    "        print(\"Sorry! You can't continue ahead in this game.\")\n",
    "        print('Thank you for playing and here is your prize money of ₹5,000.')"
   ]
  },
  {
   "cell_type": "code",
   "execution_count": null,
   "id": "e0ae832c",
   "metadata": {},
   "outputs": [],
   "source": [
    "Q11 = ['Q11. Who are the only married couple elected to the 16th Lok Sabha?','A. Sukhbir Singh-Harshimrat Kaur Badal','B. Pappu Yadav-Ranjeet Ranjan','C. Priya Ranjan-Deepa Dasmunshi','D. Prakash-Brinda Karat']\n",
    "for i in Q11:\n",
    "    print(i)\n",
    "    \n",
    "Player_response = input('Your Answer is: ')\n",
    "print(Player_response)\n",
    "\n",
    "if Player_response == 'B':\n",
    "        print('Yes! It is Correct. Well done!')\n",
    "        print('You have won ₹640,000')\n",
    "        print('Lets proceed to the next question.')\n",
    "else:\n",
    "        print('No! It is incorrect.')\n",
    "        print('And the correct answer is: B.')\n",
    "        print(\"Sorry! You can't continue ahead in this game.\")\n",
    "        print('Thank you for playing and here is your prize money of ₹320,000.')"
   ]
  },
  {
   "cell_type": "code",
   "execution_count": null,
   "id": "bd763843",
   "metadata": {},
   "outputs": [],
   "source": [
    "Q12 = ['Q12. Which of these stages is one of the four stages of human life in ancient Indian tradition?','A. Dronacharya','B. Bramhacharya','C. Vasudevacharya','D. Kripacharya']\n",
    "for i in Q12:\n",
    "    print(i)\n",
    "    \n",
    "Player_response = input('Your Answer is: ')\n",
    "print(Player_response)\n",
    "\n",
    "if Player_response == 'B':\n",
    "        print('Yes! It is Correct. Well done!')\n",
    "        print('You have won ₹12,50,000')\n",
    "        print('Lets proceed to the next question.')\n",
    "else:\n",
    "        print('No! It is incorrect.')\n",
    "        print('And the correct answer is: B.')\n",
    "        print(\"Sorry! You can't continue ahead in this game.\")\n",
    "        print('Thank you for playing and here is your prize money of ₹320,000.')"
   ]
  },
  {
   "cell_type": "code",
   "execution_count": null,
   "id": "dc791074",
   "metadata": {},
   "outputs": [],
   "source": [
    "Q13 = ['Q13. In which state is the Larji Hydroelectric Power Project located?','A. Uttarakhand','B. Jammu and Kashmir','C. Sikkim','D. Himachal Pradesh']\n",
    "for i in Q13:\n",
    "    print(i)\n",
    "    \n",
    "Player_response = input('Your Answer is: ')\n",
    "print(Player_response)\n",
    "\n",
    "if Player_response == 'D':\n",
    "        print('Yes! It is Correct. Well done!')\n",
    "        print('You have won ₹25,00,000')\n",
    "        print('Lets proceed to the next question.')\n",
    "else:\n",
    "        print('No! It is incorrect.')\n",
    "        print('And the correct answer is: D.')\n",
    "        print(\"Sorry! You can't continue ahead in this game.\")\n",
    "        print('Thank you for playing and here is your prize money of ₹320,000.')"
   ]
  },
  {
   "cell_type": "code",
   "execution_count": null,
   "id": "0ff85099",
   "metadata": {},
   "outputs": [],
   "source": [
    "Q14 = ['Q14. Effective on may 2014,the European union imposed a temporary ban on the import of which of these fruits from India?','A. Mango','B. Banana','C. Litchi','D. Pineapple']\n",
    "for i in Q14:\n",
    "    print(i)\n",
    "    \n",
    "Player_response = input('Your Answer is: ')\n",
    "print(Player_response)\n",
    "\n",
    "if Player_response == 'A':\n",
    "        print('Yes! It is Correct. Well done!')\n",
    "        print('You have won ₹50,00,000')\n",
    "        print('Lets proceed to the next question.')\n",
    "else:\n",
    "        print('No! It is incorrect.')\n",
    "        print('And the correct answer is: A.')\n",
    "        print(\"Sorry! You can't continue ahead in this game.\")\n",
    "        print('Thank you for playing and here is your prize money of ₹320,000.')"
   ]
  },
  {
   "cell_type": "code",
   "execution_count": null,
   "id": "aeaa1075",
   "metadata": {},
   "outputs": [],
   "source": [
    "Q15 = ['Q15. Where did Homi Jehangir Bhaba, the principal architect of India’s nuclear program, die in a plane crash?','A. Monte Rosa','B. Mount Ararat','C. Mount Elbrus','D. Mont Blanc']\n",
    "for i in Q15:\n",
    "    print(i)\n",
    "    \n",
    "Player_response = input('Your Answer is: ')\n",
    "print(Player_response)\n",
    "\n",
    "if Player_response == 'D':\n",
    "        print('Yes! It is Correct. Well done!')\n",
    "        print('You have won ₹100,00,000')\n",
    "        print('Congratulations', name , 'You have sucessfully answered the ₹100,00,000 question of KBC.')\n",
    "else:\n",
    "        print('No! It is incorrect.')\n",
    "        print('And the correct answer is: D.')\n",
    "        print(\"Sorry! You can't continue ahead in this game.\")\n",
    "        print('Thank you for playing and here is your prize money of ₹320,000.')"
   ]
  },
  {
   "cell_type": "code",
   "execution_count": null,
   "id": "2c64d6c7",
   "metadata": {},
   "outputs": [],
   "source": [
    "print('Now do you want to proceed with the ₹700,00,000 or wants to quit and take ₹100,00,000?' )\n",
    "Player_response1 = input('YES/NO: ')\n",
    "print(Player_response1)\n",
    "\n",
    "if Player_response1 == 'YES':\n",
    "    Q16 = ['Q16. Whose autobiography is titled ‘Man of Everest’ also published as ‘Tiger of the snows’?','A. Sir Edmund Hillary','B. Tenzing Norgay','C. George Mallory','D. Major H P S Aluhwalia']\n",
    "    for i in Q16:\n",
    "        print(i)\n",
    "    \n",
    "    Player_response = input('Your Answer is: ')\n",
    "    print(Player_response)\n",
    "    \n",
    "    if Player_response == 'B':\n",
    "        print('Yes! It is Correct. Well done!')\n",
    "        print('You have won ₹700,00,000')\n",
    "        print('Congratulations', name , 'You have sucessfully answered the ₹700,00,000 question of KBC.')\n",
    "        print('The winner of KBC is:', name)\n",
    "    else:\n",
    "        print('No! It is incorrect.')\n",
    "        print('And the correct answer is: B.')\n",
    "        print(\"Sorry! It was so close.\")\n",
    "        print('Thank you for playing and here is your prize money of ₹320,000.')\n",
    "else:\n",
    "    print('Thank you so much for playing and here is your prize money of ₹100,00,000.')\n",
    "    "
   ]
  },
  {
   "cell_type": "code",
   "execution_count": null,
   "id": "efcc0d34",
   "metadata": {},
   "outputs": [],
   "source": []
  }
 ],
 "metadata": {
  "kernelspec": {
   "display_name": "myenv",
   "language": "python",
   "name": "myenv"
  },
  "language_info": {
   "codemirror_mode": {
    "name": "ipython",
    "version": 3
   },
   "file_extension": ".py",
   "mimetype": "text/x-python",
   "name": "python",
   "nbconvert_exporter": "python",
   "pygments_lexer": "ipython3",
   "version": "3.6.13"
  }
 },
 "nbformat": 4,
 "nbformat_minor": 5
}
